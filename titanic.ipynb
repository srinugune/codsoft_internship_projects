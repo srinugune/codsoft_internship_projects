{
 "cells": [
  {
   "cell_type": "markdown",
   "id": "2708304a",
   "metadata": {},
   "source": [
    "# TITANIC SURVIVAL PREDICTION\n",
    "**Statement**\n",
    "Using the Titanic dataset to build a model that predicts whether a\n",
    "passenger on the Titanic survived or not."
   ]
  },
  {
   "cell_type": "markdown",
   "id": "709447b1",
   "metadata": {},
   "source": [
    "**importing necessary libraries**"
   ]
  },
  {
   "cell_type": "code",
   "execution_count": 1,
   "id": "67157fb3",
   "metadata": {},
   "outputs": [],
   "source": [
    "import numpy as np\n",
    "import pandas as pd\n",
    "import matplotlib.pyplot as plt\n",
    "import seaborn as sns\n",
    "import warnings\n",
    "warnings.filterwarnings(\"ignore\")"
   ]
  },
  {
   "cell_type": "markdown",
   "id": "d1593ef5",
   "metadata": {},
   "source": [
    "## Data collection"
   ]
  },
  {
   "cell_type": "code",
   "execution_count": 2,
   "id": "83ce620d",
   "metadata": {},
   "outputs": [
    {
     "data": {
      "text/html": [
       "<div>\n",
       "<style scoped>\n",
       "    .dataframe tbody tr th:only-of-type {\n",
       "        vertical-align: middle;\n",
       "    }\n",
       "\n",
       "    .dataframe tbody tr th {\n",
       "        vertical-align: top;\n",
       "    }\n",
       "\n",
       "    .dataframe thead th {\n",
       "        text-align: right;\n",
       "    }\n",
       "</style>\n",
       "<table border=\"1\" class=\"dataframe\">\n",
       "  <thead>\n",
       "    <tr style=\"text-align: right;\">\n",
       "      <th></th>\n",
       "      <th>PassengerId</th>\n",
       "      <th>Survived</th>\n",
       "      <th>Pclass</th>\n",
       "      <th>Name</th>\n",
       "      <th>Sex</th>\n",
       "      <th>Age</th>\n",
       "      <th>SibSp</th>\n",
       "      <th>Parch</th>\n",
       "      <th>Ticket</th>\n",
       "      <th>Fare</th>\n",
       "      <th>Cabin</th>\n",
       "      <th>Embarked</th>\n",
       "    </tr>\n",
       "  </thead>\n",
       "  <tbody>\n",
       "    <tr>\n",
       "      <th>0</th>\n",
       "      <td>1</td>\n",
       "      <td>0</td>\n",
       "      <td>3</td>\n",
       "      <td>Braund, Mr. Owen Harris</td>\n",
       "      <td>male</td>\n",
       "      <td>22.0</td>\n",
       "      <td>1</td>\n",
       "      <td>0</td>\n",
       "      <td>A/5 21171</td>\n",
       "      <td>7.2500</td>\n",
       "      <td>NaN</td>\n",
       "      <td>S</td>\n",
       "    </tr>\n",
       "    <tr>\n",
       "      <th>1</th>\n",
       "      <td>2</td>\n",
       "      <td>1</td>\n",
       "      <td>1</td>\n",
       "      <td>Cumings, Mrs. John Bradley (Florence Briggs Th...</td>\n",
       "      <td>female</td>\n",
       "      <td>38.0</td>\n",
       "      <td>1</td>\n",
       "      <td>0</td>\n",
       "      <td>PC 17599</td>\n",
       "      <td>71.2833</td>\n",
       "      <td>C85</td>\n",
       "      <td>C</td>\n",
       "    </tr>\n",
       "    <tr>\n",
       "      <th>2</th>\n",
       "      <td>3</td>\n",
       "      <td>1</td>\n",
       "      <td>3</td>\n",
       "      <td>Heikkinen, Miss. Laina</td>\n",
       "      <td>female</td>\n",
       "      <td>26.0</td>\n",
       "      <td>0</td>\n",
       "      <td>0</td>\n",
       "      <td>STON/O2. 3101282</td>\n",
       "      <td>7.9250</td>\n",
       "      <td>NaN</td>\n",
       "      <td>S</td>\n",
       "    </tr>\n",
       "    <tr>\n",
       "      <th>3</th>\n",
       "      <td>4</td>\n",
       "      <td>1</td>\n",
       "      <td>1</td>\n",
       "      <td>Futrelle, Mrs. Jacques Heath (Lily May Peel)</td>\n",
       "      <td>female</td>\n",
       "      <td>35.0</td>\n",
       "      <td>1</td>\n",
       "      <td>0</td>\n",
       "      <td>113803</td>\n",
       "      <td>53.1000</td>\n",
       "      <td>C123</td>\n",
       "      <td>S</td>\n",
       "    </tr>\n",
       "    <tr>\n",
       "      <th>4</th>\n",
       "      <td>5</td>\n",
       "      <td>0</td>\n",
       "      <td>3</td>\n",
       "      <td>Allen, Mr. William Henry</td>\n",
       "      <td>male</td>\n",
       "      <td>35.0</td>\n",
       "      <td>0</td>\n",
       "      <td>0</td>\n",
       "      <td>373450</td>\n",
       "      <td>8.0500</td>\n",
       "      <td>NaN</td>\n",
       "      <td>S</td>\n",
       "    </tr>\n",
       "    <tr>\n",
       "      <th>...</th>\n",
       "      <td>...</td>\n",
       "      <td>...</td>\n",
       "      <td>...</td>\n",
       "      <td>...</td>\n",
       "      <td>...</td>\n",
       "      <td>...</td>\n",
       "      <td>...</td>\n",
       "      <td>...</td>\n",
       "      <td>...</td>\n",
       "      <td>...</td>\n",
       "      <td>...</td>\n",
       "      <td>...</td>\n",
       "    </tr>\n",
       "    <tr>\n",
       "      <th>886</th>\n",
       "      <td>887</td>\n",
       "      <td>0</td>\n",
       "      <td>2</td>\n",
       "      <td>Montvila, Rev. Juozas</td>\n",
       "      <td>male</td>\n",
       "      <td>27.0</td>\n",
       "      <td>0</td>\n",
       "      <td>0</td>\n",
       "      <td>211536</td>\n",
       "      <td>13.0000</td>\n",
       "      <td>NaN</td>\n",
       "      <td>S</td>\n",
       "    </tr>\n",
       "    <tr>\n",
       "      <th>887</th>\n",
       "      <td>888</td>\n",
       "      <td>1</td>\n",
       "      <td>1</td>\n",
       "      <td>Graham, Miss. Margaret Edith</td>\n",
       "      <td>female</td>\n",
       "      <td>19.0</td>\n",
       "      <td>0</td>\n",
       "      <td>0</td>\n",
       "      <td>112053</td>\n",
       "      <td>30.0000</td>\n",
       "      <td>B42</td>\n",
       "      <td>S</td>\n",
       "    </tr>\n",
       "    <tr>\n",
       "      <th>888</th>\n",
       "      <td>889</td>\n",
       "      <td>0</td>\n",
       "      <td>3</td>\n",
       "      <td>Johnston, Miss. Catherine Helen \"Carrie\"</td>\n",
       "      <td>female</td>\n",
       "      <td>NaN</td>\n",
       "      <td>1</td>\n",
       "      <td>2</td>\n",
       "      <td>W./C. 6607</td>\n",
       "      <td>23.4500</td>\n",
       "      <td>NaN</td>\n",
       "      <td>S</td>\n",
       "    </tr>\n",
       "    <tr>\n",
       "      <th>889</th>\n",
       "      <td>890</td>\n",
       "      <td>1</td>\n",
       "      <td>1</td>\n",
       "      <td>Behr, Mr. Karl Howell</td>\n",
       "      <td>male</td>\n",
       "      <td>26.0</td>\n",
       "      <td>0</td>\n",
       "      <td>0</td>\n",
       "      <td>111369</td>\n",
       "      <td>30.0000</td>\n",
       "      <td>C148</td>\n",
       "      <td>C</td>\n",
       "    </tr>\n",
       "    <tr>\n",
       "      <th>890</th>\n",
       "      <td>891</td>\n",
       "      <td>0</td>\n",
       "      <td>3</td>\n",
       "      <td>Dooley, Mr. Patrick</td>\n",
       "      <td>male</td>\n",
       "      <td>32.0</td>\n",
       "      <td>0</td>\n",
       "      <td>0</td>\n",
       "      <td>370376</td>\n",
       "      <td>7.7500</td>\n",
       "      <td>NaN</td>\n",
       "      <td>Q</td>\n",
       "    </tr>\n",
       "  </tbody>\n",
       "</table>\n",
       "<p>891 rows × 12 columns</p>\n",
       "</div>"
      ],
      "text/plain": [
       "     PassengerId  Survived  Pclass  \\\n",
       "0              1         0       3   \n",
       "1              2         1       1   \n",
       "2              3         1       3   \n",
       "3              4         1       1   \n",
       "4              5         0       3   \n",
       "..           ...       ...     ...   \n",
       "886          887         0       2   \n",
       "887          888         1       1   \n",
       "888          889         0       3   \n",
       "889          890         1       1   \n",
       "890          891         0       3   \n",
       "\n",
       "                                                  Name     Sex   Age  SibSp  \\\n",
       "0                              Braund, Mr. Owen Harris    male  22.0      1   \n",
       "1    Cumings, Mrs. John Bradley (Florence Briggs Th...  female  38.0      1   \n",
       "2                               Heikkinen, Miss. Laina  female  26.0      0   \n",
       "3         Futrelle, Mrs. Jacques Heath (Lily May Peel)  female  35.0      1   \n",
       "4                             Allen, Mr. William Henry    male  35.0      0   \n",
       "..                                                 ...     ...   ...    ...   \n",
       "886                              Montvila, Rev. Juozas    male  27.0      0   \n",
       "887                       Graham, Miss. Margaret Edith  female  19.0      0   \n",
       "888           Johnston, Miss. Catherine Helen \"Carrie\"  female   NaN      1   \n",
       "889                              Behr, Mr. Karl Howell    male  26.0      0   \n",
       "890                                Dooley, Mr. Patrick    male  32.0      0   \n",
       "\n",
       "     Parch            Ticket     Fare Cabin Embarked  \n",
       "0        0         A/5 21171   7.2500   NaN        S  \n",
       "1        0          PC 17599  71.2833   C85        C  \n",
       "2        0  STON/O2. 3101282   7.9250   NaN        S  \n",
       "3        0            113803  53.1000  C123        S  \n",
       "4        0            373450   8.0500   NaN        S  \n",
       "..     ...               ...      ...   ...      ...  \n",
       "886      0            211536  13.0000   NaN        S  \n",
       "887      0            112053  30.0000   B42        S  \n",
       "888      2        W./C. 6607  23.4500   NaN        S  \n",
       "889      0            111369  30.0000  C148        C  \n",
       "890      0            370376   7.7500   NaN        Q  \n",
       "\n",
       "[891 rows x 12 columns]"
      ]
     },
     "execution_count": 2,
     "metadata": {},
     "output_type": "execute_result"
    }
   ],
   "source": [
    "df=pd.read_csv(\"Titanic-Dataset.csv\")\n",
    "df"
   ]
  },
  {
   "cell_type": "markdown",
   "id": "ecc36f3b",
   "metadata": {},
   "source": [
    "## Exploring the dataset"
   ]
  },
  {
   "cell_type": "code",
   "execution_count": 3,
   "id": "e637fe5b",
   "metadata": {},
   "outputs": [
    {
     "name": "stdout",
     "output_type": "stream",
     "text": [
      "<class 'pandas.core.frame.DataFrame'>\n",
      "RangeIndex: 891 entries, 0 to 890\n",
      "Data columns (total 12 columns):\n",
      " #   Column       Non-Null Count  Dtype  \n",
      "---  ------       --------------  -----  \n",
      " 0   PassengerId  891 non-null    int64  \n",
      " 1   Survived     891 non-null    int64  \n",
      " 2   Pclass       891 non-null    int64  \n",
      " 3   Name         891 non-null    object \n",
      " 4   Sex          891 non-null    object \n",
      " 5   Age          714 non-null    float64\n",
      " 6   SibSp        891 non-null    int64  \n",
      " 7   Parch        891 non-null    int64  \n",
      " 8   Ticket       891 non-null    object \n",
      " 9   Fare         891 non-null    float64\n",
      " 10  Cabin        204 non-null    object \n",
      " 11  Embarked     889 non-null    object \n",
      "dtypes: float64(2), int64(5), object(5)\n",
      "memory usage: 83.7+ KB\n"
     ]
    }
   ],
   "source": [
    "df.info()"
   ]
  },
  {
   "cell_type": "code",
   "execution_count": 4,
   "id": "261a64ed",
   "metadata": {},
   "outputs": [
    {
     "data": {
      "text/html": [
       "<div>\n",
       "<style scoped>\n",
       "    .dataframe tbody tr th:only-of-type {\n",
       "        vertical-align: middle;\n",
       "    }\n",
       "\n",
       "    .dataframe tbody tr th {\n",
       "        vertical-align: top;\n",
       "    }\n",
       "\n",
       "    .dataframe thead th {\n",
       "        text-align: right;\n",
       "    }\n",
       "</style>\n",
       "<table border=\"1\" class=\"dataframe\">\n",
       "  <thead>\n",
       "    <tr style=\"text-align: right;\">\n",
       "      <th></th>\n",
       "      <th>PassengerId</th>\n",
       "      <th>Survived</th>\n",
       "      <th>Pclass</th>\n",
       "      <th>Age</th>\n",
       "      <th>SibSp</th>\n",
       "      <th>Parch</th>\n",
       "      <th>Fare</th>\n",
       "    </tr>\n",
       "  </thead>\n",
       "  <tbody>\n",
       "    <tr>\n",
       "      <th>count</th>\n",
       "      <td>891.000000</td>\n",
       "      <td>891.000000</td>\n",
       "      <td>891.000000</td>\n",
       "      <td>714.000000</td>\n",
       "      <td>891.000000</td>\n",
       "      <td>891.000000</td>\n",
       "      <td>891.000000</td>\n",
       "    </tr>\n",
       "    <tr>\n",
       "      <th>mean</th>\n",
       "      <td>446.000000</td>\n",
       "      <td>0.383838</td>\n",
       "      <td>2.308642</td>\n",
       "      <td>29.699118</td>\n",
       "      <td>0.523008</td>\n",
       "      <td>0.381594</td>\n",
       "      <td>32.204208</td>\n",
       "    </tr>\n",
       "    <tr>\n",
       "      <th>std</th>\n",
       "      <td>257.353842</td>\n",
       "      <td>0.486592</td>\n",
       "      <td>0.836071</td>\n",
       "      <td>14.526497</td>\n",
       "      <td>1.102743</td>\n",
       "      <td>0.806057</td>\n",
       "      <td>49.693429</td>\n",
       "    </tr>\n",
       "    <tr>\n",
       "      <th>min</th>\n",
       "      <td>1.000000</td>\n",
       "      <td>0.000000</td>\n",
       "      <td>1.000000</td>\n",
       "      <td>0.420000</td>\n",
       "      <td>0.000000</td>\n",
       "      <td>0.000000</td>\n",
       "      <td>0.000000</td>\n",
       "    </tr>\n",
       "    <tr>\n",
       "      <th>25%</th>\n",
       "      <td>223.500000</td>\n",
       "      <td>0.000000</td>\n",
       "      <td>2.000000</td>\n",
       "      <td>20.125000</td>\n",
       "      <td>0.000000</td>\n",
       "      <td>0.000000</td>\n",
       "      <td>7.910400</td>\n",
       "    </tr>\n",
       "    <tr>\n",
       "      <th>50%</th>\n",
       "      <td>446.000000</td>\n",
       "      <td>0.000000</td>\n",
       "      <td>3.000000</td>\n",
       "      <td>28.000000</td>\n",
       "      <td>0.000000</td>\n",
       "      <td>0.000000</td>\n",
       "      <td>14.454200</td>\n",
       "    </tr>\n",
       "    <tr>\n",
       "      <th>75%</th>\n",
       "      <td>668.500000</td>\n",
       "      <td>1.000000</td>\n",
       "      <td>3.000000</td>\n",
       "      <td>38.000000</td>\n",
       "      <td>1.000000</td>\n",
       "      <td>0.000000</td>\n",
       "      <td>31.000000</td>\n",
       "    </tr>\n",
       "    <tr>\n",
       "      <th>max</th>\n",
       "      <td>891.000000</td>\n",
       "      <td>1.000000</td>\n",
       "      <td>3.000000</td>\n",
       "      <td>80.000000</td>\n",
       "      <td>8.000000</td>\n",
       "      <td>6.000000</td>\n",
       "      <td>512.329200</td>\n",
       "    </tr>\n",
       "  </tbody>\n",
       "</table>\n",
       "</div>"
      ],
      "text/plain": [
       "       PassengerId    Survived      Pclass         Age       SibSp  \\\n",
       "count   891.000000  891.000000  891.000000  714.000000  891.000000   \n",
       "mean    446.000000    0.383838    2.308642   29.699118    0.523008   \n",
       "std     257.353842    0.486592    0.836071   14.526497    1.102743   \n",
       "min       1.000000    0.000000    1.000000    0.420000    0.000000   \n",
       "25%     223.500000    0.000000    2.000000   20.125000    0.000000   \n",
       "50%     446.000000    0.000000    3.000000   28.000000    0.000000   \n",
       "75%     668.500000    1.000000    3.000000   38.000000    1.000000   \n",
       "max     891.000000    1.000000    3.000000   80.000000    8.000000   \n",
       "\n",
       "            Parch        Fare  \n",
       "count  891.000000  891.000000  \n",
       "mean     0.381594   32.204208  \n",
       "std      0.806057   49.693429  \n",
       "min      0.000000    0.000000  \n",
       "25%      0.000000    7.910400  \n",
       "50%      0.000000   14.454200  \n",
       "75%      0.000000   31.000000  \n",
       "max      6.000000  512.329200  "
      ]
     },
     "execution_count": 4,
     "metadata": {},
     "output_type": "execute_result"
    }
   ],
   "source": [
    "df.describe()"
   ]
  },
  {
   "cell_type": "code",
   "execution_count": 5,
   "id": "205ae18f",
   "metadata": {},
   "outputs": [
    {
     "data": {
      "text/html": [
       "<div>\n",
       "<style scoped>\n",
       "    .dataframe tbody tr th:only-of-type {\n",
       "        vertical-align: middle;\n",
       "    }\n",
       "\n",
       "    .dataframe tbody tr th {\n",
       "        vertical-align: top;\n",
       "    }\n",
       "\n",
       "    .dataframe thead th {\n",
       "        text-align: right;\n",
       "    }\n",
       "</style>\n",
       "<table border=\"1\" class=\"dataframe\">\n",
       "  <thead>\n",
       "    <tr style=\"text-align: right;\">\n",
       "      <th></th>\n",
       "      <th>Survived</th>\n",
       "      <th>Pclass</th>\n",
       "      <th>Sex</th>\n",
       "      <th>Age</th>\n",
       "      <th>SibSp</th>\n",
       "      <th>Parch</th>\n",
       "      <th>Fare</th>\n",
       "      <th>Embarked</th>\n",
       "    </tr>\n",
       "  </thead>\n",
       "  <tbody>\n",
       "    <tr>\n",
       "      <th>0</th>\n",
       "      <td>0</td>\n",
       "      <td>3</td>\n",
       "      <td>male</td>\n",
       "      <td>22.0</td>\n",
       "      <td>1</td>\n",
       "      <td>0</td>\n",
       "      <td>7.2500</td>\n",
       "      <td>S</td>\n",
       "    </tr>\n",
       "    <tr>\n",
       "      <th>1</th>\n",
       "      <td>1</td>\n",
       "      <td>1</td>\n",
       "      <td>female</td>\n",
       "      <td>38.0</td>\n",
       "      <td>1</td>\n",
       "      <td>0</td>\n",
       "      <td>71.2833</td>\n",
       "      <td>C</td>\n",
       "    </tr>\n",
       "    <tr>\n",
       "      <th>2</th>\n",
       "      <td>1</td>\n",
       "      <td>3</td>\n",
       "      <td>female</td>\n",
       "      <td>26.0</td>\n",
       "      <td>0</td>\n",
       "      <td>0</td>\n",
       "      <td>7.9250</td>\n",
       "      <td>S</td>\n",
       "    </tr>\n",
       "    <tr>\n",
       "      <th>3</th>\n",
       "      <td>1</td>\n",
       "      <td>1</td>\n",
       "      <td>female</td>\n",
       "      <td>35.0</td>\n",
       "      <td>1</td>\n",
       "      <td>0</td>\n",
       "      <td>53.1000</td>\n",
       "      <td>S</td>\n",
       "    </tr>\n",
       "    <tr>\n",
       "      <th>4</th>\n",
       "      <td>0</td>\n",
       "      <td>3</td>\n",
       "      <td>male</td>\n",
       "      <td>35.0</td>\n",
       "      <td>0</td>\n",
       "      <td>0</td>\n",
       "      <td>8.0500</td>\n",
       "      <td>S</td>\n",
       "    </tr>\n",
       "    <tr>\n",
       "      <th>...</th>\n",
       "      <td>...</td>\n",
       "      <td>...</td>\n",
       "      <td>...</td>\n",
       "      <td>...</td>\n",
       "      <td>...</td>\n",
       "      <td>...</td>\n",
       "      <td>...</td>\n",
       "      <td>...</td>\n",
       "    </tr>\n",
       "    <tr>\n",
       "      <th>886</th>\n",
       "      <td>0</td>\n",
       "      <td>2</td>\n",
       "      <td>male</td>\n",
       "      <td>27.0</td>\n",
       "      <td>0</td>\n",
       "      <td>0</td>\n",
       "      <td>13.0000</td>\n",
       "      <td>S</td>\n",
       "    </tr>\n",
       "    <tr>\n",
       "      <th>887</th>\n",
       "      <td>1</td>\n",
       "      <td>1</td>\n",
       "      <td>female</td>\n",
       "      <td>19.0</td>\n",
       "      <td>0</td>\n",
       "      <td>0</td>\n",
       "      <td>30.0000</td>\n",
       "      <td>S</td>\n",
       "    </tr>\n",
       "    <tr>\n",
       "      <th>888</th>\n",
       "      <td>0</td>\n",
       "      <td>3</td>\n",
       "      <td>female</td>\n",
       "      <td>NaN</td>\n",
       "      <td>1</td>\n",
       "      <td>2</td>\n",
       "      <td>23.4500</td>\n",
       "      <td>S</td>\n",
       "    </tr>\n",
       "    <tr>\n",
       "      <th>889</th>\n",
       "      <td>1</td>\n",
       "      <td>1</td>\n",
       "      <td>male</td>\n",
       "      <td>26.0</td>\n",
       "      <td>0</td>\n",
       "      <td>0</td>\n",
       "      <td>30.0000</td>\n",
       "      <td>C</td>\n",
       "    </tr>\n",
       "    <tr>\n",
       "      <th>890</th>\n",
       "      <td>0</td>\n",
       "      <td>3</td>\n",
       "      <td>male</td>\n",
       "      <td>32.0</td>\n",
       "      <td>0</td>\n",
       "      <td>0</td>\n",
       "      <td>7.7500</td>\n",
       "      <td>Q</td>\n",
       "    </tr>\n",
       "  </tbody>\n",
       "</table>\n",
       "<p>891 rows × 8 columns</p>\n",
       "</div>"
      ],
      "text/plain": [
       "     Survived  Pclass     Sex   Age  SibSp  Parch     Fare Embarked\n",
       "0           0       3    male  22.0      1      0   7.2500        S\n",
       "1           1       1  female  38.0      1      0  71.2833        C\n",
       "2           1       3  female  26.0      0      0   7.9250        S\n",
       "3           1       1  female  35.0      1      0  53.1000        S\n",
       "4           0       3    male  35.0      0      0   8.0500        S\n",
       "..        ...     ...     ...   ...    ...    ...      ...      ...\n",
       "886         0       2    male  27.0      0      0  13.0000        S\n",
       "887         1       1  female  19.0      0      0  30.0000        S\n",
       "888         0       3  female   NaN      1      2  23.4500        S\n",
       "889         1       1    male  26.0      0      0  30.0000        C\n",
       "890         0       3    male  32.0      0      0   7.7500        Q\n",
       "\n",
       "[891 rows x 8 columns]"
      ]
     },
     "execution_count": 5,
     "metadata": {},
     "output_type": "execute_result"
    }
   ],
   "source": [
    "## dropping irrelevant features\n",
    "df=df.drop([\"PassengerId\",\"Name\",\"Ticket\",\"Cabin\"],axis=1)\n",
    "df"
   ]
  },
  {
   "cell_type": "code",
   "execution_count": 6,
   "id": "0b11de58",
   "metadata": {},
   "outputs": [
    {
     "name": "stdout",
     "output_type": "stream",
     "text": [
      "Survived: [0 1]\n",
      "Pclass: [3 1 2]\n",
      "Sex: ['male' 'female']\n",
      "SibSp: [1 0 3 4 2 5 8]\n",
      "Parch: [0 1 2 5 3 4 6]\n",
      "Embarked: ['S' 'C' 'Q' nan]\n"
     ]
    }
   ],
   "source": [
    "## checking the unique counts of each variable\n",
    "print(\"Survived:\",df[\"Survived\"].unique())\n",
    "print(\"Pclass:\",df[\"Pclass\"].unique())\n",
    "print(\"Sex:\",df[\"Sex\"].unique())\n",
    "print(\"SibSp:\",df[\"SibSp\"].unique())\n",
    "print(\"Parch:\",df[\"Parch\"].unique())\n",
    "print(\"Embarked:\",df[\"Embarked\"].unique())"
   ]
  },
  {
   "cell_type": "markdown",
   "id": "eaa49b57",
   "metadata": {},
   "source": [
    "Sex and Embarked column should be encoded"
   ]
  },
  {
   "cell_type": "markdown",
   "id": "60ca25b2",
   "metadata": {},
   "source": [
    "## Visualizing the dataset"
   ]
  },
  {
   "cell_type": "code",
   "execution_count": 7,
   "id": "d4c6d1da",
   "metadata": {},
   "outputs": [
    {
     "data": {
      "image/png": "[encoded data removed]",
      "text/plain": [
       "<Figure size 500x500 with 1 Axes>"
      ]
     },
     "metadata": {},
     "output_type": "display_data"
    }
   ],
   "source": [
    "sns.displot(df[\"Age\"],bins=8,kde=True)\n",
    "plt.show()"
   ]
  },
  {
   "cell_type": "code",
   "execution_count": 8,
   "id": "0d55cc04",
   "metadata": {},
   "outputs": [
    {
     "data": {
      "image/png": "[encoded data removed]",
      "text/plain": [
       "<Figure size 640x480 with 1 Axes>"
      ]
     },
     "metadata": {},
     "output_type": "display_data"
    }
   ],
   "source": [
    "sns.countplot(x=df[\"Survived\"])\n",
    "plt.show()"
   ]
  },
  {
   "cell_type": "code",
   "execution_count": 15,
   "id": "07011e5c",
   "metadata": {},
   "outputs": [
    {
     "data": {
      "image/png": "[encoded data removed]",
      "text/plain": [
       "<Figure size 640x480 with 1 Axes>"
      ]
     },
     "metadata": {},
     "output_type": "display_data"
    }
   ],
   "source": [
    "sns.countplot(x=df[\"Sex\"],hue=df[\"Sex\"])\n",
    "plt.show()"
   ]
  },
  {
   "cell_type": "code",
   "execution_count": 16,
   "id": "bedb7d55",
   "metadata": {},
   "outputs": [
    {
     "data": {
      "image/png": "[encoded data removed]",
      "text/plain": [
       "<Figure size 640x480 with 1 Axes>"
      ]
     },
     "metadata": {},
     "output_type": "display_data"
    }
   ],
   "source": [
    "sns.countplot(x=df[\"SibSp\"])\n",
    "plt.show()"
   ]
  },
  {
   "cell_type": "code",
   "execution_count": 17,
   "id": "2dc4c3c1",
   "metadata": {},
   "outputs": [
    {
     "data": {
      "image/png": "[encoded data removed]",
      "text/plain": [
       "<Figure size 640x480 with 1 Axes>"
      ]
     },
     "metadata": {},
     "output_type": "display_data"
    }
   ],
   "source": [
    "sns.countplot(x=df[\"Pclass\"])\n",
    "plt.show()"
   ]
  },
  {
   "cell_type": "code",
   "execution_count": 18,
   "id": "0123b4d2",
   "metadata": {},
   "outputs": [
    {
     "data": {
      "image/png": "[encoded data removed]",
      "text/plain": [
       "<Figure size 640x480 with 1 Axes>"
      ]
     },
     "metadata": {},
     "output_type": "display_data"
    }
   ],
   "source": [
    "sns.countplot(x=df[\"Embarked\"])\n",
    "plt.show()"
   ]
  },
  {
   "cell_type": "code",
   "execution_count": 19,
   "id": "e111b433",
   "metadata": {},
   "outputs": [
    {
     "data": {
      "text/html": [
       "<div>\n",
       "<style scoped>\n",
       "    .dataframe tbody tr th:only-of-type {\n",
       "        vertical-align: middle;\n",
       "    }\n",
       "\n",
       "    .dataframe tbody tr th {\n",
       "        vertical-align: top;\n",
       "    }\n",
       "\n",
       "    .dataframe thead th {\n",
       "        text-align: right;\n",
       "    }\n",
       "</style>\n",
       "<table border=\"1\" class=\"dataframe\">\n",
       "  <thead>\n",
       "    <tr style=\"text-align: right;\">\n",
       "      <th>Survived</th>\n",
       "      <th>0</th>\n",
       "      <th>1</th>\n",
       "    </tr>\n",
       "    <tr>\n",
       "      <th>Sex</th>\n",
       "      <th></th>\n",
       "      <th></th>\n",
       "    </tr>\n",
       "  </thead>\n",
       "  <tbody>\n",
       "    <tr>\n",
       "      <th>female</th>\n",
       "      <td>81</td>\n",
       "      <td>233</td>\n",
       "    </tr>\n",
       "    <tr>\n",
       "      <th>male</th>\n",
       "      <td>468</td>\n",
       "      <td>109</td>\n",
       "    </tr>\n",
       "  </tbody>\n",
       "</table>\n",
       "</div>"
      ],
      "text/plain": [
       "Survived    0    1\n",
       "Sex               \n",
       "female     81  233\n",
       "male      468  109"
      ]
     },
     "execution_count": 19,
     "metadata": {},
     "output_type": "execute_result"
    }
   ],
   "source": [
    "sex_ct = df.groupby('Sex')['Survived'].value_counts().unstack()\n",
    "sex_ct\n"
   ]
  },
  {
   "cell_type": "code",
   "execution_count": 20,
   "id": "417b907d",
   "metadata": {},
   "outputs": [
    {
     "data": {
      "image/png": "[encoded data removed]",
      "text/plain": [
       "<Figure size 1000x500 with 1 Axes>"
      ]
     },
     "metadata": {},
     "output_type": "display_data"
    }
   ],
   "source": [
    "plt.rc('figure', figsize=(10, 5))\n",
    "\n",
    "sex_ct.plot(kind='bar',)\n",
    "\n",
    "plt.legend(('Died', 'Survived'), loc='best')\n",
    "plt.title('Survivors by Gender')\n",
    "plt.xlabel('Gender')\n",
    "plt.ylabel('Count')\n",
    "plt.xticks(rotation=0)\n",
    "\n",
    "plt.show()\n"
   ]
  },
  {
   "cell_type": "code",
   "execution_count": 21,
   "id": "d40e2e53",
   "metadata": {},
   "outputs": [
    {
     "data": {
      "image/png": "[encoded data removed]",
      "text/plain": [
       "<Figure size 1000x500 with 2 Axes>"
      ]
     },
     "metadata": {},
     "output_type": "display_data"
    }
   ],
   "source": [
    "\n",
    ".\n",
    "1"
   ]
  },
  {
   "cell_type": "markdown",
   "id": "eac77140",
   "metadata": {},
   "source": [
    "## Data preprocessing"
   ]
  },
  {
   "cell_type": "code",
   "execution_count": 22,
   "id": "3791304e",
   "metadata": {},
   "outputs": [
    {
     "data": {
      "text/plain": [
       "Survived      0\n",
       "Pclass        0\n",
       "Sex           0\n",
       "Age         177\n",
       "SibSp         0\n",
       "Parch         0\n",
       "Fare          0\n",
       "Embarked      2\n",
       "dtype: int64"
      ]
     },
     "execution_count": 22,
     "metadata": {},
     "output_type": "execute_result"
    }
   ],
   "source": [
    "## checking for missing values\n",
    "df.isnull().sum()"
   ]
  },
  {
   "cell_type": "markdown",
   "id": "1a229711",
   "metadata": {},
   "source": [
    "Age and Embarked have missing values"
   ]
  },
  {
   "cell_type": "code",
   "execution_count": 23,
   "id": "aa7fba56",
   "metadata": {},
   "outputs": [
    {
     "data": {
      "text/plain": [
       "Survived    0\n",
       "Pclass      0\n",
       "Sex         0\n",
       "Age         0\n",
       "SibSp       0\n",
       "Parch       0\n",
       "Fare        0\n",
       "Embarked    0\n",
       "dtype: int64"
      ]
     },
     "execution_count": 23,
     "metadata": {},
     "output_type": "execute_result"
    }
   ],
   "source": [
    "## filling the missing values\n",
    "df[\"Embarked\"].fillna(df[\"Embarked\"].mode()[0],inplace=True)\n",
    "df[\"Age\"].fillna(np.random.randint(20,38),inplace=True)\n",
    "df.isnull().sum()"
   ]
  },
  {
   "cell_type": "code",
   "execution_count": 24,
   "id": "f2d17b10",
   "metadata": {},
   "outputs": [],
   "source": [
    "## Encoding \n",
    "df[\"Sex\"].replace({\"male\":1,\"female\":0},inplace=True)\n",
    "df[\"Embarked\"].replace({\"S\":1,\"C\":0,\"Q\":2},inplace=True)"
   ]
  },
  {
   "cell_type": "markdown",
   "id": "37f08862",
   "metadata": {},
   "source": [
    "## splitting the data"
   ]
  },
  {
   "cell_type": "code",
   "execution_count": 25,
   "id": "3ba685eb",
   "metadata": {},
   "outputs": [],
   "source": [
    "x=pd.get_dummies(df.drop('Survived',axis=1),drop_first=True)\n",
    "y=df['Survived']\n",
    "from sklearn.model_selection import train_test_split\n",
    "x_train,x_test,y_train1,y_test=train_test_split(x,y,test_size=0.2,random_state=19)"
   ]
  },
  {
   "cell_type": "code",
   "execution_count": 26,
   "id": "c287016f",
   "metadata": {},
   "outputs": [
    {
     "name": "stdout",
     "output_type": "stream",
     "text": [
      "712\n",
      "179\n"
     ]
    }
   ],
   "source": [
    "print(len(x_train))\n",
    "print(len(x_test))"
   ]
  },
  {
   "cell_type": "markdown",
   "id": "038bf709",
   "metadata": {},
   "source": [
    "## Feature Scaling"
   ]
  },
  {
   "cell_type": "code",
   "execution_count": 27,
   "id": "9b4a50c5",
   "metadata": {},
   "outputs": [],
   "source": [
    "from sklearn.preprocessing import StandardScaler\n",
    "scaler=StandardScaler()\n",
    "x_train1=scaler.fit_transform(x_train)\n",
    "x_test=scaler.transform(x_test)"
   ]
  },
  {
   "cell_type": "markdown",
   "id": "187a81db",
   "metadata": {},
   "source": [
    "## best random state"
   ]
  },
  {
   "cell_type": "code",
   "execution_count": 28,
   "id": "ca9ad5dc",
   "metadata": {},
   "outputs": [
    {
     "name": "stdout",
     "output_type": "stream",
     "text": [
      "Best random_state: 20\n"
     ]
    }
   ],
   "source": [
    "\n",
    "\n",
    "import pandas as pd\n",
    "from sklearn.model_selection import train_test_split\n",
    "from sklearn.linear_model import LogisticRegression\n",
    "from sklearn.model_selection import cross_val_score\n",
    "\n",
    "Train = []\n",
    "Test = []\n",
    "cv = []\n",
    "\n",
    "for i in range(0, 100):\n",
    "    # Split the data into train and test sets with a different random_state in each iteration\n",
    "    x_train, x_test, y_train, y_test = train_test_split( x, y, test_size=0.2, random_state=i)\n",
    "\n",
    "    # Modeling\n",
    "    model = LogisticRegression()\n",
    "    model.fit(x_train, y_train)\n",
    "\n",
    "    # Prediction\n",
    "    ypred_train = model.predict(x_train)\n",
    "    ypred_test = model.predict(x_test)\n",
    "\n",
    "    # Calculate scores and append to lists\n",
    "    Train.append(model.score(x_train, y_train))\n",
    "    Test.append(model.score(x_test, y_test))\n",
    "    cv.append(cross_val_score(model, x, y, cv=5).mean())\n",
    "\n",
    "em = pd.DataFrame({\"Train\": Train, \"Test\": Test, \"cv\": cv})\n",
    "\n",
    "# Filter for rows where the absolute differences are within the specified threshold\n",
    "gm = em[(abs(em['Train'] - em[\"Test\"]) <= 0.05) & (abs(em['Test'] - em['cv']) <= 0.05)]\n",
    "\n",
    "# Find the index with the maximum 'Test' score\n",
    "best_random_state = gm[\"Test\"].idxmax()\n",
    "\n",
    "print(\"Best random_state:\", best_random_state)\n"
   ]
  },
  {
   "cell_type": "markdown",
   "id": "9804be5b",
   "metadata": {},
   "source": [
    "## Modelling"
   ]
  },
  {
   "cell_type": "code",
   "execution_count": 29,
   "id": "39ac3f43",
   "metadata": {},
   "outputs": [],
   "source": [
    "from sklearn.metrics import accuracy_score\n",
    "from sklearn.model_selection import cross_val_score\n",
    "from sklearn.model_selection import GridSearchCV"
   ]
  },
  {
   "cell_type": "markdown",
   "id": "87bdecd7",
   "metadata": {},
   "source": [
    "Logistic regression"
   ]
  },
  {
   "cell_type": "code",
   "execution_count": 30,
   "id": "6ab2fcd0",
   "metadata": {},
   "outputs": [
    {
     "name": "stdout",
     "output_type": "stream",
     "text": [
      "train_accuracy: 0.7893258426966292\n",
      "test accuracy: 0.6424581005586593\n",
      "cvs: 0.7822735547046639\n"
     ]
    }
   ],
   "source": [
    "from sklearn.linear_model import LogisticRegression\n",
    "model=LogisticRegression(random_state=20)\n",
    "model.fit(x_train1,y_train1)\n",
    "\n",
    "ypred_train=model.predict(x_train1)\n",
    "ypred_test=model.predict(x_test)\n",
    "\n",
    "log_train_accuracy=accuracy_score(y_train1,ypred_train)\n",
    "log_test_accuracy=accuracy_score(y_test,ypred_test)\n",
    "scores=cross_val_score(model,x,y)\n",
    "log_cvs=scores.mean()\n",
    "\n",
    "print(\"train_accuracy:\",log_train_accuracy)\n",
    "print(\"test accuracy:\",log_test_accuracy)\n",
    "print(\"cvs:\",log_cvs)"
   ]
  },
  {
   "cell_type": "markdown",
   "id": "84c5d8cc",
   "metadata": {},
   "source": [
    "**Decision Tree**"
   ]
  },
  {
   "cell_type": "code",
   "execution_count": 33,
   "id": "f838a8a1",
   "metadata": {},
   "outputs": [
    {
     "data": {
      "text/plain": [
       "{'criterion': 'entropy', 'max_depth': 3}"
      ]
     },
     "execution_count": 33,
     "metadata": {},
     "output_type": "execute_result"
    }
   ],
   "source": [
    "from sklearn.tree import DecisionTreeClassifier\n",
    "estimator=DecisionTreeClassifier()\n",
    "\n",
    "param_grid={'criterion':[\"gini\",\"entropy\"],'max_depth':[1,2,3,4,5]}\n",
    "\n",
    "grid=GridSearchCV(estimator,param_grid,scoring='accuracy')\n",
    "\n",
    "grid.fit(x_train1,y_train1)\n",
    "grid.best_params_"
   ]
  },
  {
   "cell_type": "code",
   "execution_count": 34,
   "id": "91abccb6",
   "metadata": {},
   "outputs": [],
   "source": [
    "grid.best_estimator_.feature_importances_\n",
    "feats= pd.DataFrame(data=grid.best_estimator_.feature_importances_,index=x.columns,columns=[\"Feature Importance\"])\n",
    "feats_imp=feats[feats[\"Feature Importance\"]>0]\n",
    "important_features_list=feats_imp.index.to_list()"
   ]
  },
  {
   "cell_type": "code",
   "execution_count": 35,
   "id": "d920a957",
   "metadata": {},
   "outputs": [
    {
     "name": "stdout",
     "output_type": "stream",
     "text": [
      "train accuracy: 0.8132022471910112\n",
      "test accuracy: 0.8603351955307262\n",
      "cross val score: 0.8148076078086749\n"
     ]
    }
   ],
   "source": [
    "x_imp=x[important_features_list]\n",
    "x_train,x_test,y_train,y_test=train_test_split(x_imp,y,test_size=0.2,random_state=20)\n",
    "final_dt_model=DecisionTreeClassifier(criterion='entropy',max_depth=3,random_state=20)\n",
    "final_dt_model.fit(x_train,y_train)\n",
    "\n",
    "ypred_train=final_dt_model.predict(x_train)\n",
    "ypred_test=final_dt_model.predict(x_test)\n",
    "dt_train_accuracy=accuracy_score(ypred_train,y_train)\n",
    "dt_test_accuracy=accuracy_score(ypred_test,y_test)\n",
    "dt_cvs=cross_val_score(final_dt_model,x,y,cv=5).mean()\n",
    "\n",
    "print(\"train accuracy:\",dt_train_accuracy)\n",
    "print(\"test accuracy:\",dt_test_accuracy)\n",
    "print(\"cross val score:\",dt_cvs)"
   ]
  },
  {
   "cell_type": "markdown",
   "id": "331d01e5",
   "metadata": {},
   "source": [
    "**Random Forest**"
   ]
  },
  {
   "cell_type": "code",
   "execution_count": 36,
   "id": "8bf16780",
   "metadata": {},
   "outputs": [
    {
     "data": {
      "text/plain": [
       "{'n_estimators': 16}"
      ]
     },
     "execution_count": 36,
     "metadata": {},
     "output_type": "execute_result"
    }
   ],
   "source": [
    "from sklearn.ensemble import RandomForestClassifier\n",
    "estimator=RandomForestClassifier(random_state=18)\n",
    "param_grid={'n_estimators':list(range(1,20))}\n",
    "grid=GridSearchCV(estimator,param_grid,scoring=\"accuracy\",cv=5)\n",
    "grid.fit(x_train1,y_train1)\n",
    "grid.best_params_"
   ]
  },
  {
   "cell_type": "code",
   "execution_count": 37,
   "id": "47cb3ab4",
   "metadata": {},
   "outputs": [],
   "source": [
    "grid.best_estimator_.feature_importances_\n",
    "feats_imp = pd.DataFrame(data=grid.best_estimator_.feature_importances_, index=x.columns, columns=['Feature Importance'])\n",
    "important_feats = feats_imp[feats_imp['Feature Importance'] > 0]\n",
    "important_features_list = important_feats.index.to_list()"
   ]
  },
  {
   "cell_type": "code",
   "execution_count": 40,
   "id": "e34db3ef",
   "metadata": {},
   "outputs": [
    {
     "name": "stdout",
     "output_type": "stream",
     "text": [
      "train accuracy: 0.9662921348314607\n",
      "test accuracy: 0.8659217877094972\n",
      "cross val score: 0.7957441466323519\n"
     ]
    }
   ],
   "source": [
    "x_imp=x[important_features_list]\n",
    "x_train,x_test,y_train,y_test=train_test_split(x_imp,y,test_size=0.2,random_state=18)\n",
    "\n",
    "final_rf_model=RandomForestClassifier(n_estimators=16,random_state=20)\n",
    "final_rf_model.fit(x_train,y_train)\n",
    "\n",
    "ypred_train=final_rf_model.predict(x_train)\n",
    "ypred_test=final_rf_model.predict(x_test)\n",
    "\n",
    "rf_train_accuracy=accuracy_score(ypred_train,y_train)\n",
    "rf_test_accuracy=accuracy_score(ypred_test,y_test)\n",
    "rf_cvs=cross_val_score(final_rf_model,x,y,cv=5).mean()\n",
    "##evalution\n",
    "print(\"train accuracy:\",rf_train_accuracy)\n",
    "print(\"test accuracy:\",rf_test_accuracy)\n",
    "print(\"cross val score:\",rf_cvs)"
   ]
  },
  {
   "cell_type": "markdown",
   "id": "3524a300",
   "metadata": {},
   "source": [
    "**Adaboostclassifier**"
   ]
  },
  {
   "cell_type": "code",
   "execution_count": 41,
   "id": "3c125f15",
   "metadata": {},
   "outputs": [
    {
     "data": {
      "text/plain": [
       "{'n_estimators': 15}"
      ]
     },
     "execution_count": 41,
     "metadata": {},
     "output_type": "execute_result"
    }
   ],
   "source": [
    "from sklearn.ensemble import AdaBoostClassifier\n",
    "\n",
    "estimator=AdaBoostClassifier()\n",
    "\n",
    "param_grid={'n_estimators':list(range(1,20))}\n",
    "\n",
    "grid=GridSearchCV(estimator,param_grid,scoring='accuracy')\n",
    "\n",
    "grid.fit(x_train1,y_train1)\n",
    "grid.best_params_"
   ]
  },
  {
   "cell_type": "code",
   "execution_count": 42,
   "id": "cb200d12",
   "metadata": {},
   "outputs": [],
   "source": [
    "grid.best_estimator_.feature_importances_\n",
    "feats=pd.DataFrame(index=x.columns,data=grid.best_estimator_.feature_importances_,columns=['Importance'])\n",
    "imp_features=feats[feats[\"Importance\"]>0.01]\n",
    "imp_features_list=feats[feats[\"Importance\"]>0.01].index.to_list()\n",
    "\n",
    "x_imp=x[important_features_list]"
   ]
  },
  {
   "cell_type": "code",
   "execution_count": 43,
   "id": "5f167425",
   "metadata": {},
   "outputs": [
    {
     "name": "stdout",
     "output_type": "stream",
     "text": [
      "train accuracy: 0.8075842696629213\n",
      "test accuracy: 0.8379888268156425\n",
      "cross val score: 0.810369719414977\n"
     ]
    }
   ],
   "source": [
    "\n",
    "x_imp=x[important_features_list]\n",
    "\n",
    "x_train,x_test,y_train,y_test=train_test_split(x_imp,y,test_size=0.2,random_state=20)\n",
    "ada_model=AdaBoostClassifier(n_estimators=15)\n",
    "ada_model.fit(x_train,y_train)\n",
    "\n",
    "\n",
    "ypred_train=ada_model.predict(x_train)\n",
    "ypred_test=ada_model.predict(x_test)\n",
    "\n",
    "ad_train_accuracy=accuracy_score(y_train,ypred_train)\n",
    "ad_test_accuracy=accuracy_score(y_test,ypred_test)\n",
    "ad_cvs=cross_val_score(ada_model,x,y).mean()\n",
    "##evalution\n",
    "print(\"train accuracy:\",ad_train_accuracy)\n",
    "print(\"test accuracy:\",ad_test_accuracy)\n",
    "print(\"cross val score:\",ad_cvs)"
   ]
  },
  {
   "cell_type": "markdown",
   "id": "cfb9c8cb",
   "metadata": {},
   "source": [
    "**Gradient Boosting**"
   ]
  },
  {
   "cell_type": "code",
   "execution_count": 44,
   "id": "da76f0a5",
   "metadata": {},
   "outputs": [
    {
     "data": {
      "text/plain": [
       "{'learning_rate': 0.2, 'n_estimators': 15}"
      ]
     },
     "execution_count": 44,
     "metadata": {},
     "output_type": "execute_result"
    }
   ],
   "source": [
    "from sklearn.ensemble import GradientBoostingClassifier\n",
    "estimator =GradientBoostingClassifier()\n",
    "param_grid={'n_estimators':[1,5,10,15,20],'learning_rate':[0.1,0.2,0.3,0.5,0.8,1]}\n",
    "grid=GridSearchCV(estimator,param_grid,cv=5,scoring='accuracy')\n",
    "grid.fit(x_train1,y_train1)\n",
    "grid.best_params_"
   ]
  },
  {
   "cell_type": "code",
   "execution_count": 45,
   "id": "2aef6931",
   "metadata": {},
   "outputs": [
    {
     "data": {
      "text/plain": [
       "['Pclass', 'Sex', 'Age', 'SibSp', 'Fare', 'Embarked']"
      ]
     },
     "execution_count": 45,
     "metadata": {},
     "output_type": "execute_result"
    }
   ],
   "source": [
    "grid.best_estimator_.feature_importances_\n",
    "feats=pd.DataFrame(index=x.columns,data=grid.best_estimator_.feature_importances_,columns=['Importance'])\n",
    "imp_features=feats[feats[\"Importance\"]>0.01]\n",
    "imp_features_list=feats[feats[\"Importance\"]>0.01].index.to_list()\n",
    "imp_features_list"
   ]
  },
  {
   "cell_type": "code",
   "execution_count": 46,
   "id": "f20690ee",
   "metadata": {},
   "outputs": [
    {
     "name": "stdout",
     "output_type": "stream",
     "text": [
      "train accuracy: 0.8609550561797753\n",
      "test accuracy: 0.8324022346368715\n",
      "cross val score: 0.8159500345238844\n"
     ]
    }
   ],
   "source": [
    "# Select important features\n",
    "x_imp = x[imp_features_list]\n",
    "\n",
    "# Split the data into training and testing sets\n",
    "x_train, x_test, y_train, y_test = train_test_split(x_imp, y, test_size=0.2, random_state=20)\n",
    "\n",
    "# Modeling with Gradient Boosting Classifier\n",
    "gb_bhp = GradientBoostingClassifier(n_estimators=15, learning_rate=0.2)\n",
    "gb_bhp.fit(x_train, y_train)\n",
    "\n",
    "# Prediction\n",
    "ypred_train = gb_bhp.predict(x_train)\n",
    "ypred_test = gb_bhp.predict(x_test)\n",
    "\n",
    "# Calculate accuracy scores\n",
    "gb_train_accuracy = accuracy_score(y_train, ypred_train)\n",
    "gb_test_accuracy = accuracy_score(y_test, ypred_test)\n",
    "gb_cvs = cross_val_score(gb_bhp, x, y).mean()\n",
    "\n",
    "# Evaluation\n",
    "print(\"train accuracy:\", gb_train_accuracy)\n",
    "print(\"test accuracy:\", gb_test_accuracy)\n",
    "print(\"cross val score:\", gb_cvs)\n"
   ]
  },
  {
   "cell_type": "markdown",
   "id": "3103e40d",
   "metadata": {},
   "source": [
    "**XGBoost**"
   ]
  },
  {
   "cell_type": "code",
   "execution_count": 47,
   "id": "69a25397",
   "metadata": {},
   "outputs": [
    {
     "data": {
      "text/plain": [
       "{'gamma': 0.5, 'max_depth': 5, 'n_estimators': 10}"
      ]
     },
     "execution_count": 47,
     "metadata": {},
     "output_type": "execute_result"
    }
   ],
   "source": [
    "from xgboost import XGBClassifier\n",
    "estimator=XGBClassifier()\n",
    "\n",
    "param_grid={'n_estimators':[10,20,30,40],'max_depth':[2,3,4,5,6],'gamma':[0,0.2,0.3,0.5,1]}\n",
    "\n",
    "grid=GridSearchCV(estimator,param_grid,scoring='accuracy')\n",
    "\n",
    "grid.fit(x_train1,y_train1)\n",
    "grid.best_params_"
   ]
  },
  {
   "cell_type": "code",
   "execution_count": 49,
   "id": "518f2ede",
   "metadata": {},
   "outputs": [],
   "source": [
    "grid.best_estimator_.feature_importances_\n",
    "feats=pd.DataFrame(data=grid.best_estimator_.feature_importances_,\n",
    "                  index=x.columns,columns=[\"Importance\"])\n",
    "important_features=feats[feats[\"Importance\"]>0.01]\n",
    "imp_feature_list=feats[feats[\"Importance\"]>0.01].index.to_list()"
   ]
  },
  {
   "cell_type": "code",
   "execution_count": 50,
   "id": "253cf87d",
   "metadata": {},
   "outputs": [
    {
     "name": "stdout",
     "output_type": "stream",
     "text": [
      "train accuracy: 0.8651685393258427\n",
      "test accuracy: 0.8324022346368715\n",
      "cross val score: 0.8159500345238844\n"
     ]
    }
   ],
   "source": [
    "x_imp=x[imp_feature_list]\n",
    "x_train, x_test, y_train, y_test = train_test_split(x_imp, y, test_size=0.2, random_state=20)\n",
    "xgb_model=XGBClassifier(n_estimators=10,max_depth=5,gamma=0.5)\n",
    "xgb_model.fit(x_train,y_train)\n",
    "\n",
    "##\n",
    "ypred_train=xgb_model.predict(x_train)\n",
    "ypred_test=xgb_model.predict(x_test)\n",
    "\n",
    "xgb_train_accuracy = accuracy_score(y_train, ypred_train)\n",
    "xgb_test_accuracy = accuracy_score(y_test, ypred_test)\n",
    "xgb_cvs = cross_val_score(gb_bhp, x, y).mean()\n",
    "\n",
    "# Evaluation\n",
    "print(\"train accuracy:\", xgb_train_accuracy)\n",
    "print(\"test accuracy:\", xgb_test_accuracy)\n",
    "print(\"cross val score:\", xgb_cvs)"
   ]
  },
  {
   "cell_type": "code",
   "execution_count": 51,
   "id": "cabb6e02",
   "metadata": {},
   "outputs": [],
   "source": [
    "## Model Selection"
   ]
  },
  {
   "cell_type": "code",
   "execution_count": 52,
   "id": "4d00eca2",
   "metadata": {},
   "outputs": [],
   "source": [
    "final_data=pd.DataFrame({\"Models\":['Logistic','DT','RF','ADB',\n",
    "                                  'GB','XGB'],\n",
    "                        \"Train accuracy\":[log_train_accuracy,\n",
    "                                          dt_train_accuracy,\n",
    "                                          rf_train_accuracy,\n",
    "                                          ad_train_accuracy,\n",
    "                                          gb_train_accuracy,\n",
    "                                          xgb_train_accuracy],\n",
    "                        \"Test accuaracy\":[log_test_accuracy,\n",
    "                                          dt_test_accuracy,\n",
    "                                          rf_test_accuracy,\n",
    "                                          ad_test_accuracy,\n",
    "                                          gb_test_accuracy,\n",
    "                                          xgb_test_accuracy],\n",
    "                        \"CV_score\":[log_cvs,dt_cvs,rf_cvs,ad_cvs,gb_cvs,\n",
    "                                    xgb_cvs]})"
   ]
  },
  {
   "cell_type": "code",
   "execution_count": 53,
   "id": "a51bc0bf",
   "metadata": {},
   "outputs": [
    {
     "data": {
      "text/html": [
       "<div>\n",
       "<style scoped>\n",
       "    .dataframe tbody tr th:only-of-type {\n",
       "        vertical-align: middle;\n",
       "    }\n",
       "\n",
       "    .dataframe tbody tr th {\n",
       "        vertical-align: top;\n",
       "    }\n",
       "\n",
       "    .dataframe thead th {\n",
       "        text-align: right;\n",
       "    }\n",
       "</style>\n",
       "<table border=\"1\" class=\"dataframe\">\n",
       "  <thead>\n",
       "    <tr style=\"text-align: right;\">\n",
       "      <th></th>\n",
       "      <th>Models</th>\n",
       "      <th>Train accuracy</th>\n",
       "      <th>Test accuaracy</th>\n",
       "      <th>CV_score</th>\n",
       "    </tr>\n",
       "  </thead>\n",
       "  <tbody>\n",
       "    <tr>\n",
       "      <th>0</th>\n",
       "      <td>Logistic</td>\n",
       "      <td>0.789326</td>\n",
       "      <td>0.642458</td>\n",
       "      <td>0.782274</td>\n",
       "    </tr>\n",
       "    <tr>\n",
       "      <th>1</th>\n",
       "      <td>DT</td>\n",
       "      <td>0.813202</td>\n",
       "      <td>0.860335</td>\n",
       "      <td>0.814808</td>\n",
       "    </tr>\n",
       "    <tr>\n",
       "      <th>2</th>\n",
       "      <td>RF</td>\n",
       "      <td>0.966292</td>\n",
       "      <td>0.865922</td>\n",
       "      <td>0.795744</td>\n",
       "    </tr>\n",
       "    <tr>\n",
       "      <th>3</th>\n",
       "      <td>ADB</td>\n",
       "      <td>0.807584</td>\n",
       "      <td>0.837989</td>\n",
       "      <td>0.810370</td>\n",
       "    </tr>\n",
       "    <tr>\n",
       "      <th>4</th>\n",
       "      <td>GB</td>\n",
       "      <td>0.860955</td>\n",
       "      <td>0.832402</td>\n",
       "      <td>0.815950</td>\n",
       "    </tr>\n",
       "    <tr>\n",
       "      <th>5</th>\n",
       "      <td>XGB</td>\n",
       "      <td>0.865169</td>\n",
       "      <td>0.832402</td>\n",
       "      <td>0.815950</td>\n",
       "    </tr>\n",
       "  </tbody>\n",
       "</table>\n",
       "</div>"
      ],
      "text/plain": [
       "     Models  Train accuracy  Test accuaracy  CV_score\n",
       "0  Logistic        0.789326        0.642458  0.782274\n",
       "1        DT        0.813202        0.860335  0.814808\n",
       "2        RF        0.966292        0.865922  0.795744\n",
       "3       ADB        0.807584        0.837989  0.810370\n",
       "4        GB        0.860955        0.832402  0.815950\n",
       "5       XGB        0.865169        0.832402  0.815950"
      ]
     },
     "execution_count": 53,
     "metadata": {},
     "output_type": "execute_result"
    }
   ],
   "source": [
    "final_data"
   ]
  },
  {
   "cell_type": "markdown",
   "id": "289d22f8",
   "metadata": {},
   "source": [
    "**ADABOOST is the best model**"
   ]
  },
  {
   "cell_type": "code",
   "execution_count": 54,
   "id": "d550b0da",
   "metadata": {},
   "outputs": [
    {
     "data": {
      "text/plain": [
       "array([[106,   6],\n",
       "       [ 24,  43]], dtype=int64)"
      ]
     },
     "execution_count": 54,
     "metadata": {},
     "output_type": "execute_result"
    }
   ],
   "source": [
    "from sklearn.metrics import confusion_matrix\n",
    "confusion_matrix(y_test,ypred_test)"
   ]
  },
  {
   "cell_type": "markdown",
   "id": "cef15b2e",
   "metadata": {},
   "source": [
    "**Deployment of the best model**"
   ]
  },
  {
   "cell_type": "code",
   "execution_count": 55,
   "id": "f729f130",
   "metadata": {},
   "outputs": [
    {
     "data": {
      "text/plain": [
       "['titanic_project.joblib']"
      ]
     },
     "execution_count": 55,
     "metadata": {},
     "output_type": "execute_result"
    }
   ],
   "source": [
    "from joblib import dump\n",
    "dump(ada_model,\"titanic_project.joblib\")"
   ]
  },
  {
   "cell_type": "code",
   "execution_count": null,
   "id": "f1689af2",
   "metadata": {},
   "outputs": [],
   "source": []
  }
 ],
 "metadata": {
  "kernelspec": {
   "display_name": "Python 3 (ipykernel)",
   "language": "python",
   "name": "python3"
  },
  "language_info": {
   "codemirror_mode": {
    "name": "ipython",
    "version": 3
   },
   "file_extension": ".py",
   "mimetype": "text/x-python",
   "name": "python",
   "nbconvert_exporter": "python",
   "pygments_lexer": "ipython3",
   "version": "3.10.9"
  }
 },
 "nbformat": 4,
 "nbformat_minor": 5
}
